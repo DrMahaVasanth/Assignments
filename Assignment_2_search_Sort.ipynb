{
 "cells": [
  {
   "cell_type": "code",
   "execution_count": 1,
   "metadata": {},
   "outputs": [
    {
     "name": "stdout",
     "output_type": "stream",
     "text": [
      "Element is present at index 3\n"
     ]
    }
   ],
   "source": [
    "# Implement Binary Search\n",
    "\n",
    "def binarySearch(arr, l, r, x):\n",
    " \n",
    "    while l <= r:\n",
    "        mid = l + (r - l) // 2\n",
    "        if arr[mid] == x:\n",
    "            return mid\n",
    "        elif arr[mid] < x:\n",
    "            l = mid + 1\n",
    "        else:\n",
    "            r = mid - 1\n",
    "    return -1\n",
    " \n",
    "# Driver Code\n",
    "if __name__ == '__main__':\n",
    "    arr = [2, 3, 4, 10, 40]\n",
    "    x = 10\n",
    "    result = binarySearch(arr, 0, len(arr)-1, x)\n",
    "    if result != -1:\n",
    "        print(\"Element is present at index\", result)\n",
    "    else:\n",
    "        print(\"Element is not present in array\")"
   ]
  },
  {
   "cell_type": "code",
   "execution_count": 2,
   "metadata": {},
   "outputs": [
    {
     "name": "stdout",
     "output_type": "stream",
     "text": [
      "Given array is\n",
      "12 11 13 5 6 7 \n",
      "\n",
      "Sorted array is \n",
      "5 6 7 11 12 13 \n"
     ]
    }
   ],
   "source": [
    "#Implement Merge Sort\n",
    "\n",
    "def mergeSort(arr):\n",
    "    if len(arr) > 1:\n",
    "        mid = len(arr)//2\n",
    "        L = arr[:mid]\n",
    "        R = arr[mid:]\n",
    "        mergeSort(L)\n",
    "        mergeSort(R)\n",
    " \n",
    "        i = j = k = 0\n",
    "        while i < len(L) and j < len(R):\n",
    "            if L[i] <= R[j]:\n",
    "                arr[k] = L[i]\n",
    "                i += 1\n",
    "            else:\n",
    "                arr[k] = R[j]\n",
    "                j += 1\n",
    "            k += 1\n",
    "        while i < len(L):\n",
    "            arr[k] = L[i]\n",
    "            i += 1\n",
    "            k += 1\n",
    "        while j < len(R):\n",
    "            arr[k] = R[j]\n",
    "            j += 1\n",
    "            k += 1\n",
    " \n",
    "def printList(arr):\n",
    "    for i in range(len(arr)):\n",
    "        print(arr[i], end=\" \")\n",
    "    print()\n",
    " \n",
    "# Driver Code\n",
    "if __name__ == '__main__':\n",
    "    arr = [12, 11, 13, 5, 6, 7]\n",
    "    print(\"Given array is\")\n",
    "    printList(arr)\n",
    "    mergeSort(arr)\n",
    "    print(\"\\nSorted array is \")\n",
    "    printList(arr)"
   ]
  },
  {
   "cell_type": "code",
   "execution_count": 3,
   "metadata": {},
   "outputs": [
    {
     "name": "stdout",
     "output_type": "stream",
     "text": [
      "Sorted array:\n",
      "1 5 7 8 9 10 "
     ]
    }
   ],
   "source": [
    "# Implement Quick Sort\n",
    "\n",
    "def partition(array, low, high):\n",
    " \n",
    "    pivot = array[high]\n",
    "    i = low - 1\n",
    "    for j in range(low, high):\n",
    "        if array[j] <= pivot:\n",
    "            i = i + 1\n",
    "            (array[i], array[j]) = (array[j], array[i])\n",
    "    (array[i + 1], array[high]) = (array[high], array[i + 1])\n",
    "    return i + 1\n",
    "\n",
    "def quicksort(array, low, high):\n",
    "    if low < high:\n",
    "        pi = partition(array, low, high)\n",
    "        quicksort(array, low, pi - 1)\n",
    "        quicksort(array, pi + 1, high)\n",
    " \n",
    "# Driver code\n",
    "if __name__ == '__main__':\n",
    "    array = [10, 7, 8, 9, 1, 5]\n",
    "    N = len(array)\n",
    " \n",
    "    # Function call\n",
    "    quicksort(array, 0, N - 1)\n",
    "    print('Sorted array:')\n",
    "    for x in array:\n",
    "        print(x, end=\" \")"
   ]
  },
  {
   "cell_type": "code",
   "execution_count": 8,
   "metadata": {},
   "outputs": [
    {
     "name": "stdout",
     "output_type": "stream",
     "text": [
      " 5  6  11  12  13 "
     ]
    }
   ],
   "source": [
    "# Implement Insertion Sort\n",
    "def insertionSort(arr):\n",
    "\n",
    "    for i in range(1, len(arr)):\n",
    " \n",
    "        key = arr[i]\n",
    "        j = i-1\n",
    "        while j >= 0 and key < arr[j] :\n",
    "                arr[j + 1] = arr[j]\n",
    "                j -= 1\n",
    "        arr[j + 1] = key\n",
    " \n",
    "arr = [12, 11, 13, 5, 6]\n",
    "insertionSort(arr)\n",
    "for i in range(len(arr)):\n",
    "    print (\"% d\" % arr[i], end=\" \")"
   ]
  },
  {
   "cell_type": "code",
   "execution_count": 10,
   "metadata": {},
   "outputs": [
    {
     "name": "stdout",
     "output_type": "stream",
     "text": [
      "abc\n",
      "bcd\n",
      "xy\n"
     ]
    }
   ],
   "source": [
    "# Write a program to sort list of strings (similar to that of dictionary)\n",
    "\n",
    "MAX_CHAR = 26\n",
    " \n",
    "class Trie:\n",
    "\n",
    "    def __init__(self):\n",
    "        self.child = [None for i in range(MAX_CHAR)]\n",
    "        self.index = -1\n",
    "     \n",
    "def insert(root,str,index):\n",
    " \n",
    "    node = root\n",
    " \n",
    "    for i in range(len(str)):\n",
    "        ind = ord(str[i]) - ord('a')\n",
    "        if (node.child[ind] == None):\n",
    "            node.child[ind] = Trie()\n",
    " \n",
    "        node = node.child[ind]\n",
    "    node.index = index\n",
    " \n",
    "def preorder(node, arr):\n",
    " \n",
    "    if (node == None):\n",
    "        return False\n",
    " \n",
    "    for i in range(MAX_CHAR):\n",
    "        if (node.child[i] != None):\n",
    "            if (node.child[i].index != -1):\n",
    "                print(arr[node.child[i].index])\n",
    " \n",
    "            preorder(node.child[i], arr)\n",
    "         \n",
    "def printSorted(arr,n):\n",
    " \n",
    "    root = Trie()\n",
    "    for i in range(n):\n",
    "        insert(root, arr[i], i)\n",
    "    preorder(root, arr)\n",
    " \n",
    "# Driver code\n",
    " \n",
    "arr = [ \"abc\", \"xy\", \"bcd\" ]\n",
    "n = len(arr)\n",
    "printSorted(arr, n)"
   ]
  }
 ],
 "metadata": {
  "kernelspec": {
   "display_name": "Python 3",
   "language": "python",
   "name": "python3"
  },
  "language_info": {
   "codemirror_mode": {
    "name": "ipython",
    "version": 3
   },
   "file_extension": ".py",
   "mimetype": "text/x-python",
   "name": "python",
   "nbconvert_exporter": "python",
   "pygments_lexer": "ipython3",
   "version": "3.10.10"
  },
  "orig_nbformat": 4
 },
 "nbformat": 4,
 "nbformat_minor": 2
}
